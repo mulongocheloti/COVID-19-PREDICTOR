{
 "cells": [
  {
   "cell_type": "code",
   "execution_count": 1,
   "id": "584be54f",
   "metadata": {},
   "outputs": [],
   "source": [
    "import pandas as pd\n",
    "import numpy as np\n",
    "import matplotlib.pyplot as plt\n",
    "%matplotlib inline\n",
    "import warnings\n",
    "warnings.filterwarnings('ignore')\n",
    "\n",
    "# DATASET: https://github.com/nshomron/covidpred/tree/master/data\n",
    "dataset = pd.read_csv(\"corona_tested_individuals_ver_006.english.csv\")\n",
    "\n",
    "## Data Type Conversion\n",
    "dataset['cough'] = pd.to_numeric(dataset['cough'], errors='coerce')\n",
    "dataset['fever'] = pd.to_numeric(dataset['fever'], errors='coerce')\n",
    "dataset['sore_throat'] = pd.to_numeric(dataset['sore_throat'], errors='coerce')\n",
    "dataset['shortness_of_breath'] = pd.to_numeric(dataset['shortness_of_breath'], errors='coerce')\n",
    "dataset['head_ache'] = pd.to_numeric(dataset['head_ache'], errors='coerce')\n",
    "\n",
    "dataset['age_60_and_above'] = dataset['age_60_and_above'].replace({'None':'No'})\n",
    "\n",
    "# Handling Missing Values\n",
    "# convert the Na's i.e \"None\" to 0 for the first 5 columns\n",
    "dataset = dataset.replace(np.nan, 0, regex=True)\n",
    "\n",
    "## Dimension Reduction\n",
    "new_dataframe = dataset.drop(columns = [\"test_date\", \"gender\"])\n",
    "new_dataframe = new_dataframe.reset_index(drop=True)\n",
    "\n",
    "new_dataframe = new_dataframe[new_dataframe[\"corona_result\"] != \"other\"]\n",
    "new_dataframe = new_dataframe.reset_index(drop=True)\n",
    "\n",
    "def freq_encoder(df, col):\n",
    "  fe = df.groupby(col).size()/len(df)\n",
    "  df[col+\"_encoded\"] = df[col].map(fe)\n",
    "  return df\n",
    "\n",
    "freq_enc_df = freq_encoder(new_dataframe, 'age_60_and_above')\n",
    "freq_enc_df = freq_encoder(new_dataframe, 'test_indication')\n",
    "freq_enc_df = freq_enc_df.drop(columns=['age_60_and_above','test_indication'], axis=1)"
   ]
  },
  {
   "cell_type": "code",
   "execution_count": 2,
   "id": "6b905889",
   "metadata": {},
   "outputs": [
    {
     "name": "stdout",
     "output_type": "stream",
     "text": [
      "Linear_Regression: 0.037002 (0.012972)\n",
      "Random_Forest_Classifier: 0.034089 (0.016126)\n"
     ]
    }
   ],
   "source": [
    "# splitting the features and the target\n",
    "X_features = freq_enc_df.drop(columns = ['corona_result'], axis=1)\n",
    "y_target = freq_enc_df['corona_result']\n",
    "\n",
    "encoded_y_target = np.where(freq_enc_df['corona_result'] == 'negative',0,1)\n",
    "\n",
    "# selecting the best algorithm\n",
    "from sklearn.model_selection import train_test_split, KFold, cross_val_score\n",
    "from sklearn.linear_model import LinearRegression\n",
    "from sklearn.ensemble import RandomForestClassifier\n",
    "\n",
    "models = []\n",
    "models.append(('Linear_Regression', LinearRegression()))\n",
    "models.append(('Random_Forest_Classifier', RandomForestClassifier()))\n",
    "\n",
    "results = []\n",
    "names = []\n",
    "for name, model in models:\n",
    "    kfold = KFold(n_splits=10)\n",
    "    cv_results = -(cross_val_score(model, X_features, encoded_y_target, cv=kfold, scoring='neg_mean_squared_error'))\n",
    "    results.append(cv_results)\n",
    "    names.append(name)\n",
    "    msg = \"%s: %f (%f)\" % (name, cv_results.mean(), cv_results.std())\n",
    "    print(msg)"
   ]
  },
  {
   "cell_type": "code",
   "execution_count": 5,
   "id": "9ece32d8",
   "metadata": {},
   "outputs": [
    {
     "name": "stdout",
     "output_type": "stream",
     "text": [
      "Model Evaluation\n",
      "___________________________________\n",
      "Mean Squared Error: 0.03267748036077975\n",
      "Accuracy Score:     96.73%\n"
     ]
    }
   ],
   "source": [
    "# Modeling\n",
    "X_train, X_test, y_train,y_test = train_test_split(X_features, encoded_y_target, test_size=0.2, random_state=42)\n",
    "covid_detector = RandomForestClassifier()\n",
    "covid_detector.fit(X_train,y_train)\n",
    "predictions = covid_detector.predict(X_test)\n",
    "\n",
    "# Model Evaluation using MSE and accuracy_score\n",
    "def mse(y_true, y_predicted):\n",
    "    return  np.mean((y_true-y_predicted)**2)\n",
    "    \n",
    "mse_value = mse(y_test, predictions)\n",
    "acc_score = round(covid_detector.score(X_test, y_test)*100,2)\n",
    "\n",
    "print(\"Model Evaluation\")\n",
    "print(\"_\"*35)\n",
    "print(\"Mean Squared Error: \",mse_value,sep=\"\")\n",
    "print(\"Accuracy Score:     \",acc_score,\"%\",sep=\"\")"
   ]
  },
  {
   "cell_type": "code",
   "execution_count": 6,
   "id": "7aa69367",
   "metadata": {},
   "outputs": [
    {
     "data": {
      "text/plain": [
       "['covid_detector.joblib']"
      ]
     },
     "execution_count": 6,
     "metadata": {},
     "output_type": "execute_result"
    }
   ],
   "source": [
    "# Saving the model\n",
    "import joblib\n",
    "from joblib import dump\n",
    "dump(covid_detector, 'covid_detector.joblib')"
   ]
  }
 ],
 "metadata": {
  "kernelspec": {
   "display_name": "Python 3 (ipykernel)",
   "language": "python",
   "name": "python3"
  },
  "language_info": {
   "codemirror_mode": {
    "name": "ipython",
    "version": 3
   },
   "file_extension": ".py",
   "mimetype": "text/x-python",
   "name": "python",
   "nbconvert_exporter": "python",
   "pygments_lexer": "ipython3",
   "version": "3.7.11"
  }
 },
 "nbformat": 4,
 "nbformat_minor": 5
}
